{
  "nbformat": 4,
  "nbformat_minor": 0,
  "metadata": {
    "colab": {
      "provenance": []
    },
    "kernelspec": {
      "name": "python3",
      "display_name": "Python 3"
    },
    "language_info": {
      "name": "python"
    }
  },
  "cells": [
    {
      "cell_type": "markdown",
      "source": [
        "#Statistics Basics| Assignment"
      ],
      "metadata": {
        "id": "-Uj0FIGo87eL"
      }
    },
    {
      "cell_type": "markdown",
      "source": [
        "###Question 1: What is the difference between descriptive statistics and inferential statistics? Explain with examples."
      ],
      "metadata": {
        "id": "oCU6eA9T87aj"
      }
    },
    {
      "cell_type": "markdown",
      "source": [
        "-> 1. Descriptive Statistics: Descriptive statistics are methods used to summarize and describe the main features of a dataset.\n",
        "\n",
        "They do not involve drawing conclusions beyond the data at hand.\n",
        "\n",
        "* Examples:\n",
        "\n",
        "Calculating the average (mean) height of 100 students.\n",
        "\n",
        "Finding the median income in a city.\n",
        "\n",
        "Creating bar charts, pie charts, histograms, etc.\n",
        "\n",
        "\n",
        "* Use Case:\n",
        "\n",
        "We survey 100 people about their favorite fruit.\n",
        "\n",
        "40% said Apple\n",
        "\n",
        "30% said Banana\n",
        "\n",
        "30% said Mango\n",
        "\n",
        "We summarize this data in a pie chart — this is descriptive statistics.\n",
        "\n",
        "\n",
        " 2. Inferential Statistics: Inferential statistics are methods used to make predictions or generalizations about a population based on a sample of data.\n",
        "\n",
        "It includes estimating parameters and testing hypotheses.\n",
        "\n",
        "* Examples:\n",
        "\n",
        "Using a sample of 500 voters to predict who will win an election.\n",
        "\n",
        "Estimating the mean salary of all software engineers in India based on a sample of 1,000 engineers.\n",
        "\n",
        "Performing a t-test or chi-square test to see if a difference is statistically significant.\n",
        "\n",
        "\n",
        "* Use Case:\n",
        "\n",
        "We survey 1000 people from across India and find that 60% prefer online shopping.\n",
        "Then we predict that 60% of all Indians prefer online shopping — this is inferential statistics.\n",
        "\n",
        "\n"
      ],
      "metadata": {
        "id": "jCN57ygJ86I7"
      }
    },
    {
      "cell_type": "markdown",
      "source": [
        "###Question 2: What is sampling in statistics? Explain the differences between random and stratified sampling."
      ],
      "metadata": {
        "id": "2K9CgdOG86Fi"
      }
    },
    {
      "cell_type": "markdown",
      "source": [
        "-> Sampling is the process of selecting a subset (sample) from a larger group (population) to gather insights, make estimates, or test hypotheses without analyzing the entire population.\n",
        "\n",
        "\n",
        "Why Use Sampling?\n",
        "\n",
        "Studying the whole population is often expensive, time-consuming, or impossible.\n",
        "\n",
        "Sampling provides results that are faster, cheaper, and often accurate enough.\n",
        "\n",
        "\n",
        "* Types of Sampling:\n",
        "\n",
        "Two common types are:\n",
        "\n",
        "1. Random Sampling\n",
        "\n",
        "Definition:\n",
        "Every individual in the population has an equal chance of being selected.\n",
        "\n",
        "* Features:\n",
        "\n",
        "Simple and unbiased\n",
        "\n",
        "Easy to implement if the population list is available\n",
        "\n",
        "\n",
        "* Example:\n",
        "\n",
        "We have a list of 1000 students and randomly select 100 using a random number generator.\n",
        "Each student had the same chance of being picked.\n",
        "\n",
        "2. Stratified Sampling: The population is divided into groups (strata) based on a specific characteristic (e.g., age, gender, income), and then a random sample is taken from each group.\n",
        "\n",
        "* Features:\n",
        "\n",
        "Ensures representation from all key subgroups\n",
        "\n",
        "More accurate than random sampling when subgroups vary significantly\n",
        "\n",
        "* Example:\n",
        "\n",
        "Suppose a college has:\n",
        "\n",
        "60% undergraduates\n",
        "\n",
        "30% postgraduates\n",
        "\n",
        "10% PhD students\n",
        "\n",
        "\n",
        "If we want a sample of 100 students:\n",
        "\n",
        "Take 60 undergraduates randomly\n",
        "\n",
        "30 postgraduates randomly\n",
        "\n",
        "10 PhD students randomly\n",
        "\n",
        "\n",
        "This gives us a sample that reflects the population structure — this is stratified sampling.\n",
        "\n"
      ],
      "metadata": {
        "id": "4AMN8R4T86Cw"
      }
    },
    {
      "cell_type": "markdown",
      "source": [
        "###Question 3: Define mean, median, and mode. Explain why these measures of central tendency are important."
      ],
      "metadata": {
        "id": "OwFLsUVU85_0"
      }
    },
    {
      "cell_type": "markdown",
      "source": [
        "-> These are the three main measures of central tendency used in statistics to describe the center or average of a dataset.\n",
        "\n",
        " 1. Mean (Average): The mean is the sum of all values divided by the number of values.\n",
        "\n",
        "* Formula:\n",
        "\n",
        "\\text{Mean} = \\frac{\\text{Sum of all values}}{\\text{Number of values}}\n",
        "\n",
        "* Example:\n",
        "\n",
        "Data: [10, 20, 30, 40, 50]\n",
        "\n",
        "\\text{Mean} = \\frac{10 + 20 + 30 + 40 + 50}{5} = 30\n",
        "\n",
        "* Use Case:\n",
        "Used when all values are equally important and there are no extreme outliers.\n",
        "\n",
        "2. Median: The median is the middle value when data is arranged in ascending or descending order.\n",
        "\n",
        "If odd number of values → middle one\n",
        "\n",
        "If even number of values → average of the two middle ones\n",
        "\n",
        "\n",
        "* Example:\n",
        "\n",
        "Data: [10, 20, 30, 40, 50] → Median = 30\n",
        "\n",
        "Data: [10, 20, 30, 40] → Median = (20+30)/2 = 25\n",
        "\n",
        "* Use Case: Best used when the data contains outliers or is skewed.\n",
        "For example, income data — one billionaire can pull the mean up, but median stays more representative.\n",
        "\n",
        "3. Mode: The mode is the value that appears most frequently in a dataset.\n",
        "\n",
        "* Example:\n",
        "\n",
        "Data: [10, 20, 20, 30, 40] → Mode = 20\n",
        "\n",
        "* Use Case: Useful for categorical data (e.g., most common shoe size, favorite color).\n",
        "\n",
        "* Why Are These Important?\n",
        "\n",
        "Measure\tImportance\n",
        "\n",
        "Mean\tGives a quick idea of the average; used in budgeting, grades, etc.\n",
        "\n",
        "Median\tBetter indicator when data has outliers or is skewed\n",
        "\n",
        "Mode\tUseful in understanding the most frequent/common item in a dataset\n",
        "\n",
        "\n",
        "* Real-Life Examples:\n",
        "\n",
        "Mean: Average marks of students in a class.\n",
        "\n",
        "Median: Median salary in a company to avoid distortion by CEO's high salary.\n",
        "\n",
        "Mode: Most common shoe size sold in a store.\n",
        "\n"
      ],
      "metadata": {
        "id": "TJhK9OLz8584"
      }
    },
    {
      "cell_type": "markdown",
      "source": [
        "###Question 4: Explain skewness and kurtosis. What does a positive skew imply about the data."
      ],
      "metadata": {
        "id": "VMiFXVma856A"
      }
    },
    {
      "cell_type": "markdown",
      "source": [
        "-> 1. Skewness: Skewness is a statistical measure that describes the asymmetry of a data distribution around its mean.In simple terms Skewness tells us which side the data is \"tilted\" or stretched toward.Skewness measures the asymmetry of a distribution.\n",
        "\n",
        "A perfectly symmetric distribution has skewness = 0.\n",
        "\n",
        "If data is not symmetric, it is skewed.\n",
        "\n",
        "\n",
        "* Types of Skewness:\n",
        "\n",
        "1. Symmetrical (Zero Skewness)\n",
        "\n",
        "* The data is evenly distributed around the mean.\n",
        "\n",
        "* Mean = Median = Mode\n",
        "\n",
        "* Looks like a bell curve (normal distribution).\n",
        "\n",
        "* Skewness = 0\n",
        "\n",
        "\n",
        "2. Positive Skewness (Right Skewed)\n",
        "\n",
        "* The right tail of the distribution is longer.\n",
        "\n",
        "* Most values are low, but a few high values stretch the tail.\n",
        "\n",
        "* Mean > Median > Mode\n",
        "\n",
        "* Skewness > 0\n",
        "\n",
        "\n",
        "Example: Income distribution — most earn average income, a few earn very high.\n",
        "\n",
        "\n",
        "3. Negative Skewness (Left Skewed)\n",
        "\n",
        "* The left tail of the distribution is longer.\n",
        "\n",
        "* Most values are high, but a few low values pull the tail to the left.\n",
        "\n",
        "* Mean < Median < Mode\n",
        "\n",
        "* Skewness < 0\n",
        "\n",
        "\n",
        "Example: Exam scores where most students score high, but a few fail badly.\n",
        "  \n",
        "\n",
        "2. Kurtosis: Kurtosis measures the \"tailedness\" of a distribution — how heavy or light the tails are compared to a normal distribution.\n",
        "\n",
        "* Types of Kurtosis:\n",
        "\n",
        "There are three main types of kurtosis:\n",
        "\n",
        "1. Mesokurtic\n",
        "\n",
        "Definition: The distribution has normal kurtosis.\n",
        "\n",
        "Kurtosis value (excess kurtosis): 0\n",
        "\n",
        "Example: Normal distribution\n",
        "\n",
        "Tails: Neither heavy nor light; standard tail weight.\n",
        "\n",
        "Shape: Bell-shaped curve with moderate peak.\n",
        "\n",
        "2. Leptokurtic\n",
        "\n",
        "Definition: The distribution has positive kurtosis.\n",
        "\n",
        "Kurtosis value (excess kurtosis): > 0\n",
        "\n",
        "Example: t-distribution (with low degrees of freedom)\n",
        "\n",
        "Tails: Heavy tails, meaning more extreme outliers.\n",
        "\n",
        "Shape: Peaked curve with fatter tails.\n",
        "\n",
        "\n",
        "3. Platykurtic\n",
        "\n",
        "Definition: The distribution has negative kurtosis.\n",
        "\n",
        "Kurtosis value (excess kurtosis): < 0\n",
        "\n",
        "Example: Uniform distribution\n",
        "\n",
        "Tails: Light tails, fewer outliers.\n",
        "\n",
        "Shape: Flatter peak, more spread out.\n",
        "\n",
        "\n",
        "* What Does a Positive Skew Imply?\n",
        "\n",
        "Most values are clustered on the lower end, with a few larger values stretching the tail to the right.\n",
        "\n",
        "It implies that the mean is pulled higher than the median.\n",
        "\n",
        "Common in data like:\n",
        "\n",
        "Income distribution\n",
        "\n",
        "House prices\n",
        "\n",
        "Response times\n",
        "\n",
        "Example:\n",
        "In a class, most students score between 50–70, but a few score 95–100.\n",
        "→ The distribution is positively skewed.\n",
        "\n"
      ],
      "metadata": {
        "id": "lByJ3ftk852s"
      }
    },
    {
      "cell_type": "markdown",
      "source": [
        "###Question 5: Implement a Python program to compute the mean, median, and mode of a given list of numbers.\n",
        "\n",
        " numbers = [12, 15, 12, 18, 19, 12, 20, 22, 19, 19, 24, 24, 24, 26, 28]\n"
      ],
      "metadata": {
        "id": "jIVl0O_K85zJ"
      }
    },
    {
      "cell_type": "code",
      "source": [
        "import statistics\n",
        "\n",
        "# Given list of numbers\n",
        "numbers = [12, 15, 12, 18, 19, 12, 20, 22, 19, 24, 24, 24, 26, 28]\n",
        "\n",
        "# Calculate mean, median, and mode\n",
        "mean = statistics.mean(numbers)\n",
        "median = statistics.median(numbers)\n",
        "mode = statistics.mode(numbers)\n",
        "\n",
        "# Print the results\n",
        "print(\"Mean:\", mean)\n",
        "print(\"Median:\", median)\n",
        "print(\"Mode:\", mode)\n",
        "\n"
      ],
      "metadata": {
        "colab": {
          "base_uri": "https://localhost:8080/"
        },
        "id": "trneTeVrvk56",
        "outputId": "1ea7f0f1-797e-47d5-d414-46c8a7fe0df2"
      },
      "execution_count": 1,
      "outputs": [
        {
          "output_type": "stream",
          "name": "stdout",
          "text": [
            "Mean: 19.642857142857142\n",
            "Median: 19.5\n",
            "Mode: 12\n"
          ]
        }
      ]
    },
    {
      "cell_type": "markdown",
      "source": [
        "###Question 6: Compute the covariance and correlation coefficient between the following two datasets provided as lists in Python:\n",
        "\n",
        " list_x = [10, 20, 30, 40, 50]\n",
        "\n",
        " list_y = [15, 25, 35, 45, 60]\n"
      ],
      "metadata": {
        "id": "_NGqz0tf85vn"
      }
    },
    {
      "cell_type": "code",
      "source": [
        "import numpy as np\n",
        "\n",
        "# Given data\n",
        "list_x = [10, 20, 30, 40, 50]\n",
        "list_y = [15, 25, 35, 45, 60]\n",
        "\n",
        "# Convert to numpy arrays\n",
        "x = np.array(list_x)\n",
        "y = np.array(list_y)\n",
        "\n",
        "# Calculate covariance\n",
        "cov_matrix = np.cov(x, y, bias=False)\n",
        "covariance = cov_matrix[0, 1]\n",
        "\n",
        "# Calculate correlation\n",
        "correlation_matrix = np.corrcoef(x, y)\n",
        "correlation = correlation_matrix[0, 1]\n",
        "\n",
        "print(\"Covariance:\", covariance)\n",
        "print(\"Correlation Coefficient:\", correlation)"
      ],
      "metadata": {
        "colab": {
          "base_uri": "https://localhost:8080/"
        },
        "id": "4IrahpEOwvIU",
        "outputId": "a03f3d63-5b03-4db5-cd1b-0e2fe7b0be97"
      },
      "execution_count": 3,
      "outputs": [
        {
          "output_type": "stream",
          "name": "stdout",
          "text": [
            "Covariance: 275.0\n",
            "Correlation Coefficient: 0.995893206467704\n"
          ]
        }
      ]
    },
    {
      "cell_type": "markdown",
      "source": [
        "###Question 7: Write a Python script to draw a boxplot for the following numeric list and identify its outliers. Explain the result:\n",
        "\n",
        " data = [12, 14, 14, 15, 18, 19, 19, 21, 22, 22, 23, 23, 24, 26, 29, 35]"
      ],
      "metadata": {
        "id": "yT_5gzwe85sm"
      }
    },
    {
      "cell_type": "code",
      "source": [
        "import matplotlib.pyplot as plt\n",
        "\n",
        "# Given data\n",
        "data = [12, 14, 14, 15, 18, 19, 19, 21, 22, 22, 23, 23, 24, 26, 29, 35]\n",
        "\n",
        "# Create boxplot\n",
        "plt.boxplot(data)\n",
        "plt.title(\"Boxplot of Given Data\")\n",
        "plt.ylabel(\"Values\")\n",
        "plt.grid(True)\n",
        "plt.show()\n"
      ],
      "metadata": {
        "colab": {
          "base_uri": "https://localhost:8080/",
          "height": 452
        },
        "id": "A1bhEKdvyfEA",
        "outputId": "9cfd01ea-43ec-4978-ec14-363c1b4d7eaa"
      },
      "execution_count": 4,
      "outputs": [
        {
          "output_type": "display_data",
          "data": {
            "text/plain": [
              "<Figure size 640x480 with 1 Axes>"
            ],
            "image/png": "[encoded data removed]"
          },
          "metadata": {}
        }
      ]
    },
    {
      "cell_type": "markdown",
      "source": [
        "Explanation:\n",
        "\n",
        "A boxplot shows the median, quartiles, and outliers.\n",
        "\n",
        "Outliers are points beyond 1.5×IQR (interquartile range) from Q1 or Q3.\n",
        "\n",
        "In this dataset, if there are any points far above or below the whiskers, they will be plotted as dots, indicating outliers.\n",
        "\n",
        "From the data, 35 may appear as a potential outlier.\n",
        "\n"
      ],
      "metadata": {
        "id": "cWM2zkMq85pz"
      }
    },
    {
      "cell_type": "markdown",
      "source": [
        "###Question 8: You are working as a data analyst in an e-commerce company. The marketing team wants to know if there is a relationship between advertising spend and daily sales.\n",
        "\n",
        " ● Explain how you would use covariance and correlation to explore this relationship.\n",
        "\n",
        "  ● Write Python code to compute the correlation between the two lists:\n",
        "  \n",
        "  advertising_spend = [200, 250, 300, 400, 500]   \n",
        "  \n",
        "  daily_sales = [2200, 2450, 2750, 3200, 4000]"
      ],
      "metadata": {
        "id": "rxZhmx3585ms"
      }
    },
    {
      "cell_type": "markdown",
      "source": [
        "-> Covariance shows the direction of the relationship (positive/negative), but its scale is not standardized.\n",
        "\n",
        "Correlation (specifically Pearson correlation coefficient) gives both the direction and strength (from -1 to +1) of the relationship.\n",
        "\n",
        "A high positive correlation means as advertising increases, sales tend to increase too.\n"
      ],
      "metadata": {
        "id": "PfM02KFz85jv"
      }
    },
    {
      "cell_type": "code",
      "source": [
        "#Python Code:\n",
        "\n",
        "import numpy as np\n",
        "\n",
        "# Given data\n",
        "advertising_spend = [200, 250, 300, 400, 500]\n",
        "daily_sales = [2200, 2450, 2750, 3200, 4000]\n",
        "\n",
        "# Convert to numpy arrays\n",
        "ad = np.array(advertising_spend)\n",
        "sales = np.array(daily_sales)\n",
        "\n",
        "# Calculate correlation coefficient\n",
        "correlation_matrix = np.corrcoef(ad, sales)\n",
        "correlation = correlation_matrix[0, 1]\n",
        "\n",
        "# Output\n",
        "print(\"Correlation between advertising spend and daily sales:\", correlation)\n"
      ],
      "metadata": {
        "colab": {
          "base_uri": "https://localhost:8080/"
        },
        "id": "gTt429yR1z-r",
        "outputId": "3ec3e9c7-8c71-4d5f-e324-388c8add44d3"
      },
      "execution_count": 5,
      "outputs": [
        {
          "output_type": "stream",
          "name": "stdout",
          "text": [
            "Correlation between advertising spend and daily sales: 0.9935824101653329\n"
          ]
        }
      ]
    },
    {
      "cell_type": "markdown",
      "source": [
        "-> This shows a very strong positive correlation."
      ],
      "metadata": {
        "id": "l9pmmFy985dB"
      }
    },
    {
      "cell_type": "markdown",
      "source": [
        "###Question 9: Your team has collected customer satisfaction survey data on a scale of 1-10 and wants to understand its distribution before launching a new product.\n",
        "\n",
        " ● Explain which summary statistics and visualizations (e.g. mean, standard deviation, histogram) you’d use.\n",
        "\n",
        "  ● Write Python code to create a histogram using Matplotlib for the survey data:\n",
        "  \n",
        "   survey_scores = [7, 8, 5, 9, 6, 7, 8, 9, 10, 4, 7, 6, 9, 8, 7]"
      ],
      "metadata": {
        "id": "Wkgq0pIm85aH"
      }
    },
    {
      "cell_type": "markdown",
      "source": [
        "-> Summary Statistics and Visualization:\n",
        "\n",
        "Mean: Average satisfaction score.\n",
        "\n",
        "Standard Deviation: Spread of responses.\n",
        "\n",
        "Histogram: Visual distribution of scores.\n"
      ],
      "metadata": {
        "id": "NTcbIH2B85W-"
      }
    },
    {
      "cell_type": "code",
      "source": [
        "#Python Code:\n",
        "\n",
        "import matplotlib.pyplot as plt\n",
        "import numpy as np\n",
        "\n",
        "# Given survey scores\n",
        "survey_scores = [7, 8, 5, 9, 6, 8, 7, 6, 10, 6, 7, 6, 9, 7]\n",
        "\n",
        "# Compute summary statistics\n",
        "mean = np.mean(survey_scores)\n",
        "std_dev = np.std(survey_scores)\n",
        "\n",
        "print(\"Mean Score:\", mean)\n",
        "print(\"Standard Deviation:\", std_dev)\n",
        "\n",
        "# Create histogram\n",
        "plt.hist(survey_scores, bins=range(1, 12), edgecolor='black', align='left')\n",
        "plt.title(\"Customer Satisfaction Histogram\")\n",
        "plt.xlabel(\"Score\")\n",
        "plt.ylabel(\"Frequency\")\n",
        "plt.xticks(range(1, 11))\n",
        "plt.grid(True)\n",
        "plt.show()\n"
      ],
      "metadata": {
        "colab": {
          "base_uri": "https://localhost:8080/",
          "height": 507
        },
        "id": "LmnwbkwV33U4",
        "outputId": "51848cf4-e642-4c52-f898-85154e5e1bee"
      },
      "execution_count": 6,
      "outputs": [
        {
          "output_type": "stream",
          "name": "stdout",
          "text": [
            "Mean Score: 7.214285714285714\n",
            "Standard Deviation: 1.3720980508784675\n"
          ]
        },
        {
          "output_type": "display_data",
          "data": {
            "text/plain": [
              "<Figure size 640x480 with 1 Axes>"
            ],
            "image/png": "[encoded data removed]"
          },
          "metadata": {}
        }
      ]
    },
    {
      "cell_type": "markdown",
      "source": [
        "The histogram will visually show how scores are distributed (e.g., whether centered around 6–8 or skewed).\n"
      ],
      "metadata": {
        "id": "D-AL4DWt85T_"
      }
    }
  ]
}